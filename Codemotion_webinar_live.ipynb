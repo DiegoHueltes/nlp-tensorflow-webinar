{
  "nbformat": 4,
  "nbformat_minor": 0,
  "metadata": {
    "colab": {
      "name": "Codemotion webinar live.ipynb",
      "provenance": [],
      "collapsed_sections": []
    },
    "kernelspec": {
      "name": "python3",
      "display_name": "Python 3"
    },
    "accelerator": "GPU"
  },
  "cells": [
    {
      "cell_type": "markdown",
      "metadata": {
        "id": "dlRl8EVEXY_N",
        "colab_type": "text"
      },
      "source": [
        "# Webinar NLP con Tensorflow\n",
        "## Diego Hueltes"
      ]
    },
    {
      "cell_type": "markdown",
      "metadata": {
        "id": "9U8C8Ck_Xkdu",
        "colab_type": "text"
      },
      "source": [
        "Importamos tensorflow y tf datasets"
      ]
    },
    {
      "cell_type": "code",
      "metadata": {
        "id": "IJjDwldQTpGC",
        "colab_type": "code",
        "colab": {
          "base_uri": "https://localhost:8080/",
          "height": 34
        },
        "outputId": "4366c338-65ec-4313-e81d-5270f56ac641"
      },
      "source": [
        "import tensorflow as tf\n",
        "print(\"Tensorflow version \" + tf.__version__)\n",
        "\n",
        "\n",
        "import tensorflow_datasets as tfds"
      ],
      "execution_count": null,
      "outputs": [
        {
          "output_type": "stream",
          "text": [
            "Tensorflow version 2.2.0\n"
          ],
          "name": "stdout"
        }
      ]
    },
    {
      "cell_type": "markdown",
      "metadata": {
        "id": "oX5Crm7hamgS",
        "colab_type": "text"
      },
      "source": [
        "Definimos la similaridad de coseno, que la usaremos después"
      ]
    },
    {
      "cell_type": "code",
      "metadata": {
        "id": "eggbiGTkaU-1",
        "colab_type": "code",
        "colab": {}
      },
      "source": [
        "from numpy import dot\n",
        "from numpy.linalg import norm\n",
        "\n",
        "cos_sim = lambda a, b: dot(a, b)/(norm(a)*norm(b))"
      ],
      "execution_count": null,
      "outputs": []
    },
    {
      "cell_type": "markdown",
      "metadata": {
        "id": "_LmWaxoVJVAS",
        "colab_type": "text"
      },
      "source": [
        "En tensorflow_datasets podemos solicitar varias versiones de los dataset, en este caso pedimos la versión de texto plano."
      ]
    },
    {
      "cell_type": "code",
      "metadata": {
        "id": "hjiyHS7tlken",
        "colab_type": "code",
        "colab": {}
      },
      "source": [
        "dataset = tfds.load('imdb_reviews/plain_text', as_supervised=True)\n",
        "train_dataset, test_dataset = dataset['train'], dataset['test']"
      ],
      "execution_count": null,
      "outputs": []
    },
    {
      "cell_type": "markdown",
      "metadata": {
        "id": "aOrbzNaCJns4",
        "colab_type": "text"
      },
      "source": [
        "El padded batch indica que sea en batches de 64 y que le haga padding (añada cadenas vacías a lo que queda de frase)"
      ]
    },
    {
      "cell_type": "code",
      "metadata": {
        "id": "osGCdK21bRQx",
        "colab_type": "code",
        "colab": {}
      },
      "source": [
        "train_dataset = train_dataset.padded_batch(64)\n",
        "test_dataset = test_dataset.padded_batch(64)"
      ],
      "execution_count": null,
      "outputs": []
    },
    {
      "cell_type": "markdown",
      "metadata": {
        "id": "mVONY9_RKJKL",
        "colab_type": "text"
      },
      "source": [
        "Podemos ver que el dataset contiene las frases sin limpiar y además si es 1 (positiva) o 0 (negativa)"
      ]
    },
    {
      "cell_type": "code",
      "metadata": {
        "id": "WxU2Z9eSXwXj",
        "colab_type": "code",
        "colab": {
          "base_uri": "https://localhost:8080/",
          "height": 377
        },
        "outputId": "58b4f63e-7a30-4f12-b857-499e061a1675"
      },
      "source": [
        "list(train_dataset.take(10))"
      ],
      "execution_count": null,
      "outputs": [
        {
          "output_type": "execute_result",
          "data": {
            "text/plain": [
              "[(<tf.Tensor: shape=(), dtype=string, numpy=b\"This was an absolutely terrible movie. Don't be lured in by Christopher Walken or Michael Ironside. Both are great actors, but this must simply be their worst role in history. Even their great acting could not redeem this movie's ridiculous storyline. This movie is an early nineties US propaganda piece. The most pathetic scenes were those when the Columbian rebels were making their cases for revolutions. Maria Conchita Alonso appeared phony, and her pseudo-love affair with Walken was nothing but a pathetic emotional plug in a movie that was devoid of any real meaning. I am disappointed that there are movies like this, ruining actor's like Christopher Walken's good name. I could barely sit through it.\">,\n",
              "  <tf.Tensor: shape=(), dtype=int64, numpy=0>),\n",
              " (<tf.Tensor: shape=(), dtype=string, numpy=b'I have been known to fall asleep during films, but this is usually due to a combination of things including, really tired, being warm and comfortable on the sette and having just eaten a lot. However on this occasion I fell asleep because the film was rubbish. The plot development was constant. Constantly slow and boring. Things seemed to happen, but with no explanation of what was causing them or why. I admit, I may have missed part of the film, but i watched the majority of it and everything just seemed to happen of its own accord without any real concern for anything else. I cant recommend this film at all.'>,\n",
              "  <tf.Tensor: shape=(), dtype=int64, numpy=0>),\n",
              " (<tf.Tensor: shape=(), dtype=string, numpy=b'Mann photographs the Alberta Rocky Mountains in a superb fashion, and Jimmy Stewart and Walter Brennan give enjoyable performances as they always seem to do. <br /><br />But come on Hollywood - a Mountie telling the people of Dawson City, Yukon to elect themselves a marshal (yes a marshal!) and to enforce the law themselves, then gunfighters battling it out on the streets for control of the town? <br /><br />Nothing even remotely resembling that happened on the Canadian side of the border during the Klondike gold rush. Mr. Mann and company appear to have mistaken Dawson City for Deadwood, the Canadian North for the American Wild West.<br /><br />Canadian viewers be prepared for a Reefer Madness type of enjoyable howl with this ludicrous plot, or, to shake your head in disgust.'>,\n",
              "  <tf.Tensor: shape=(), dtype=int64, numpy=0>),\n",
              " (<tf.Tensor: shape=(), dtype=string, numpy=b'This is the kind of film for a snowy Sunday afternoon when the rest of the world can go ahead with its own business as you descend into a big arm-chair and mellow for a couple of hours. Wonderful performances from Cher and Nicolas Cage (as always) gently row the plot along. There are no rapids to cross, no dangerous waters, just a warm and witty paddle through New York life at its best. A family film in every sense and one that deserves the praise it received.'>,\n",
              "  <tf.Tensor: shape=(), dtype=int64, numpy=1>),\n",
              " (<tf.Tensor: shape=(), dtype=string, numpy=b'As others have mentioned, all the women that go nude in this film are mostly absolutely gorgeous. The plot very ably shows the hypocrisy of the female libido. When men are around they want to be pursued, but when no \"men\" are around, they become the pursuers of a 14 year old boy. And the boy becomes a man really fast (we should all be so lucky at this age!). He then gets up the courage to pursue his true love.'>,\n",
              "  <tf.Tensor: shape=(), dtype=int64, numpy=1>),\n",
              " (<tf.Tensor: shape=(), dtype=string, numpy=b\"This is a film which should be seen by anybody interested in, effected by, or suffering from an eating disorder. It is an amazingly accurate and sensitive portrayal of bulimia in a teenage girl, its causes and its symptoms. The girl is played by one of the most brilliant young actresses working in cinema today, Alison Lohman, who was later so spectacular in 'Where the Truth Lies'. I would recommend that this film be shown in all schools, as you will never see a better on this subject. Alison Lohman is absolutely outstanding, and one marvels at her ability to convey the anguish of a girl suffering from this compulsive disorder. If barometers tell us the air pressure, Alison Lohman tells us the emotional pressure with the same degree of accuracy. Her emotional range is so precise, each scene could be measured microscopically for its gradations of trauma, on a scale of rising hysteria and desperation which reaches unbearable intensity. Mare Winningham is the perfect choice to play her mother, and does so with immense sympathy and a range of emotions just as finely tuned as Lohman's. Together, they make a pair of sensitive emotional oscillators vibrating in resonance with one another. This film is really an astonishing achievement, and director Katt Shea should be proud of it. The only reason for not seeing it is if you are not interested in people. But even if you like nature films best, this is after all animal behaviour at the sharp edge. Bulimia is an extreme version of how a tormented soul can destroy her own body in a frenzy of despair. And if we don't sympathise with people suffering from the depths of despair, then we are dead inside.\">,\n",
              "  <tf.Tensor: shape=(), dtype=int64, numpy=1>),\n",
              " (<tf.Tensor: shape=(), dtype=string, numpy=b'Okay, you have:<br /><br />Penelope Keith as Miss Herringbone-Tweed, B.B.E. (Backbone of England.) She\\'s killed off in the first scene - that\\'s right, folks; this show has no backbone!<br /><br />Peter O\\'Toole as Ol\\' Colonel Cricket from The First War and now the emblazered Lord of the Manor.<br /><br />Joanna Lumley as the ensweatered Lady of the Manor, 20 years younger than the colonel and 20 years past her own prime but still glamourous (Brit spelling, not mine) enough to have a toy-boy on the side. It\\'s alright, they have Col. Cricket\\'s full knowledge and consent (they guy even comes \\'round for Christmas!) Still, she\\'s considerate of the colonel enough to have said toy-boy her own age (what a gal!)<br /><br />David McCallum as said toy-boy, equally as pointlessly glamourous as his squeeze. Pilcher couldn\\'t come up with any cover for him within the story, so she gave him a hush-hush job at the Circus.<br /><br />and finally:<br /><br />Susan Hampshire as Miss Polonia Teacups, Venerable Headmistress of the Venerable Girls\\' Boarding-School, serving tea in her office with a dash of deep, poignant advice for life in the outside world just before graduation. Her best bit of advice: \"I\\'ve only been to Nancherrow (the local Stately Home of England) once. I thought it was very beautiful but, somehow, not part of the real world.\" Well, we can\\'t say they didn\\'t warn us.<br /><br />Ah, Susan - time was, your character would have been running the whole show. They don\\'t write \\'em like that any more. Our loss, not yours.<br /><br />So - with a cast and setting like this, you have the re-makings of \"Brideshead Revisited,\" right?<br /><br />Wrong! They took these 1-dimensional supporting roles because they paid so well. After all, acting is one of the oldest temp-jobs there is (YOU name another!)<br /><br />First warning sign: lots and lots of backlighting. They get around it by shooting outdoors - \"hey, it\\'s just the sunlight!\"<br /><br />Second warning sign: Leading Lady cries a lot. When not crying, her eyes are moist. That\\'s the law of romance novels: Leading Lady is \"dewy-eyed.\"<br /><br />Henceforth, Leading Lady shall be known as L.L.<br /><br />Third warning sign: L.L. actually has stars in her eyes when she\\'s in love. Still, I\\'ll give Emily Mortimer an award just for having to act with that spotlight in her eyes (I wonder . did they use contacts?)<br /><br />And lastly, fourth warning sign: no on-screen female character is \"Mrs.\" She\\'s either \"Miss\" or \"Lady.\"<br /><br />When all was said and done, I still couldn\\'t tell you who was pursuing whom and why. I couldn\\'t even tell you what was said and done.<br /><br />To sum up: they all live through World War II without anything happening to them at all.<br /><br />OK, at the end, L.L. finds she\\'s lost her parents to the Japanese prison camps and baby sis comes home catatonic. Meanwhile (there\\'s always a \"meanwhile,\") some young guy L.L. had a crush on (when, I don\\'t know) comes home from some wartime tough spot and is found living on the street by Lady of the Manor (must be some street if SHE\\'s going to find him there.) Both war casualties are whisked away to recover at Nancherrow (SOMEBODY has to be \"whisked away\" SOMEWHERE in these romance stories!)<br /><br />Great drama.'>,\n",
              "  <tf.Tensor: shape=(), dtype=int64, numpy=0>),\n",
              " (<tf.Tensor: shape=(), dtype=string, numpy=b'The film is based on a genuine 1950s novel.<br /><br />Journalist Colin McInnes wrote a set of three \"London novels\": \"Absolute Beginners\", \"City of Spades\" and \"Mr Love and Justice\". I have read all three. The first two are excellent. The last, perhaps an experiment that did not come off. But McInnes\\'s work is highly acclaimed; and rightly so. This musical is the novelist\\'s ultimate nightmare - to see the fruits of one\\'s mind being turned into a glitzy, badly-acted, soporific one-dimensional apology of a film that says it captures the spirit of 1950s London, and does nothing of the sort.<br /><br />Thank goodness Colin McInnes wasn\\'t alive to witness it.'>,\n",
              "  <tf.Tensor: shape=(), dtype=int64, numpy=0>),\n",
              " (<tf.Tensor: shape=(), dtype=string, numpy=b'I really love the sexy action and sci-fi films of the sixties and its because of the actress\\'s that appeared in them. They found the sexiest women to be in these films and it didn\\'t matter if they could act (Remember \"Candy\"?). The reason I was disappointed by this film was because it wasn\\'t nostalgic enough. The story here has a European sci-fi film called \"Dragonfly\" being made and the director is fired. So the producers decide to let a young aspiring filmmaker (Jeremy Davies) to complete the picture. They\\'re is one real beautiful woman in the film who plays Dragonfly but she\\'s barely in it. Film is written and directed by Roman Coppola who uses some of his fathers exploits from his early days and puts it into the script. I wish the film could have been an homage to those early films. They could have lots of cameos by actors who appeared in them. There is one actor in this film who was popular from the sixties and its John Phillip Law (Barbarella). Gerard Depardieu, Giancarlo Giannini and Dean Stockwell appear as well. I guess I\\'m going to have to continue waiting for a director to make a good homage to the films of the sixties. If any are reading this, \"Make it as sexy as you can\"! I\\'ll be waiting!'>,\n",
              "  <tf.Tensor: shape=(), dtype=int64, numpy=0>),\n",
              " (<tf.Tensor: shape=(), dtype=string, numpy=b'Sure, this one isn\\'t really a blockbuster, nor does it target such a position. \"Dieter\" is the first name of a quite popular German musician, who is either loved or hated for his kind of acting and thats exactly what this movie is about. It is based on the autobiography \"Dieter Bohlen\" wrote a few years ago but isn\\'t meant to be accurate on that. The movie is filled with some sexual offensive content (at least for American standard) which is either amusing (not for the other \"actors\" of course) or dumb - it depends on your individual kind of humor or on you being a \"Bohlen\"-Fan or not. Technically speaking there isn\\'t much to criticize. Speaking of me I find this movie to be an OK-movie.'>,\n",
              "  <tf.Tensor: shape=(), dtype=int64, numpy=0>)]"
            ]
          },
          "metadata": {
            "tags": []
          },
          "execution_count": 22
        }
      ]
    },
    {
      "cell_type": "markdown",
      "metadata": {
        "id": "LgzNFZicKLgN",
        "colab_type": "text"
      },
      "source": [
        "Descargamos de tensorflow hub las embeddings preentrenadas"
      ]
    },
    {
      "cell_type": "code",
      "metadata": {
        "id": "VPcw29kaO3ZL",
        "colab_type": "code",
        "colab": {}
      },
      "source": [
        "import tensorflow_hub as hub\n",
        "\n",
        "embed = hub.load(\"https://tfhub.dev/google/nnlm-en-dim128/2\")"
      ],
      "execution_count": null,
      "outputs": []
    },
    {
      "cell_type": "markdown",
      "metadata": {
        "id": "gf5ToMcRKRZu",
        "colab_type": "text"
      },
      "source": [
        "Podemos ver que traduce una frase a un vector de 128 posiciones"
      ]
    },
    {
      "cell_type": "code",
      "metadata": {
        "id": "qJf09xJzKQdA",
        "colab_type": "code",
        "colab": {}
      },
      "source": [
        "embed(['I love my apartment'])"
      ],
      "execution_count": null,
      "outputs": []
    },
    {
      "cell_type": "markdown",
      "metadata": {
        "id": "4uSM2uuyKZk1",
        "colab_type": "text"
      },
      "source": [
        "Hacemos la similaridad del coseno para comprobar que 'I love my apartment' y 'My aparment is nice' tiene resultados similares pese a ser frases totalmente distintas. Si usamos otra frase como 'hi codemotion' vemos que no se parece en nada."
      ]
    },
    {
      "cell_type": "code",
      "metadata": {
        "id": "3N45PQ4TWJSA",
        "colab_type": "code",
        "colab": {
          "base_uri": "https://localhost:8080/",
          "height": 34
        },
        "outputId": "9859e589-69e5-4fd3-b35d-eb0552177e69"
      },
      "source": [
        "cos_sim(embed(['I love my apartment'])[0], embed(['hi codemotion'])[0])"
      ],
      "execution_count": null,
      "outputs": [
        {
          "output_type": "execute_result",
          "data": {
            "text/plain": [
              "-0.05873022"
            ]
          },
          "metadata": {
            "tags": []
          },
          "execution_count": 16
        }
      ]
    },
    {
      "cell_type": "markdown",
      "metadata": {
        "id": "4-gGQlZwKY0S",
        "colab_type": "text"
      },
      "source": [
        "Creamos el modelo con una capa de tensorflow_hub, las embeddings que hemos visto antes. Después es una red feed-forward con dropout para evitar el overfitting."
      ]
    },
    {
      "cell_type": "code",
      "metadata": {
        "id": "Hxy9MVoYWRMz",
        "colab_type": "code",
        "colab": {}
      },
      "source": [
        "model = tf.keras.Sequential([\n",
        "  hub.KerasLayer('https://tfhub.dev/google/nnlm-en-dim128/2', trainable=True, input_shape=[], dtype=tf.string),\n",
        "  tf.keras.layers.Dense(128, activation='relu'),\n",
        "  tf.keras.layers.Dropout(0.2),\n",
        "  tf.keras.layers.Dense(64, activation='relu'),\n",
        "  tf.keras.layers.Dropout(0.2),\n",
        "  tf.keras.layers.Dense(32, activation='relu'),\n",
        "  tf.keras.layers.Dense(1, activation='softmax'),\n",
        "])"
      ],
      "execution_count": null,
      "outputs": []
    },
    {
      "cell_type": "code",
      "metadata": {
        "id": "1q4CY2aRako-",
        "colab_type": "code",
        "colab": {}
      },
      "source": [
        "model.compile(optimizer='adam', loss='binary_crossentropy', metrics='accuracy')"
      ],
      "execution_count": null,
      "outputs": []
    },
    {
      "cell_type": "code",
      "metadata": {
        "id": "Hh5bKPsra9hs",
        "colab_type": "code",
        "colab": {
          "base_uri": "https://localhost:8080/",
          "height": 374
        },
        "outputId": "f02e6208-4045-4542-bfdb-c9fd8d0c1058"
      },
      "source": [
        "model.fit(train_dataset, validation_data=test_dataset, validation_steps=30, epochs=10)"
      ],
      "execution_count": null,
      "outputs": [
        {
          "output_type": "stream",
          "text": [
            "Epoch 1/10\n",
            "391/391 [==============================] - 16s 42ms/step - loss: 0.5855 - accuracy: 0.7666 - val_loss: 0.4702 - val_accuracy: 0.8490\n",
            "Epoch 2/10\n",
            "391/391 [==============================] - 16s 41ms/step - loss: 0.3048 - accuracy: 0.9056 - val_loss: 0.6425 - val_accuracy: 0.8438\n",
            "Epoch 3/10\n",
            "391/391 [==============================] - 16s 41ms/step - loss: 0.2841 - accuracy: 0.9397 - val_loss: 0.8846 - val_accuracy: 0.8578\n",
            "Epoch 4/10\n",
            "391/391 [==============================] - 16s 41ms/step - loss: 0.2224 - accuracy: 0.9590 - val_loss: 1.0672 - val_accuracy: 0.8594\n",
            "Epoch 5/10\n",
            "391/391 [==============================] - 16s 42ms/step - loss: 0.1621 - accuracy: 0.9726 - val_loss: 1.4184 - val_accuracy: 0.8557\n",
            "Epoch 6/10\n",
            "391/391 [==============================] - 17s 43ms/step - loss: 0.1255 - accuracy: 0.9873 - val_loss: 1.5283 - val_accuracy: 0.8479\n",
            "Epoch 7/10\n",
            "391/391 [==============================] - 16s 42ms/step - loss: 0.1106 - accuracy: 0.9921 - val_loss: 1.7489 - val_accuracy: 0.8432\n",
            "Epoch 8/10\n",
            "391/391 [==============================] - 17s 42ms/step - loss: 0.1084 - accuracy: 0.9920 - val_loss: 1.7914 - val_accuracy: 0.8448\n",
            "Epoch 9/10\n",
            "391/391 [==============================] - 17s 43ms/step - loss: 0.1158 - accuracy: 0.9902 - val_loss: 1.6898 - val_accuracy: 0.8438\n",
            "Epoch 10/10\n",
            "391/391 [==============================] - 17s 43ms/step - loss: 0.1112 - accuracy: 0.9898 - val_loss: 1.5350 - val_accuracy: 0.8484\n"
          ],
          "name": "stdout"
        },
        {
          "output_type": "execute_result",
          "data": {
            "text/plain": [
              "<tensorflow.python.keras.callbacks.History at 0x7eff333cda90>"
            ]
          },
          "metadata": {
            "tags": []
          },
          "execution_count": 33
        }
      ]
    },
    {
      "cell_type": "markdown",
      "metadata": {
        "id": "dsGj8hIVKyWz",
        "colab_type": "text"
      },
      "source": [
        "Podemos ver que alcanza la accuracy máxima en la primera epoch, signo de que la mayoría del conocimiento viene de las embeddings preentrenadas y no de nuestro entrenamiento."
      ]
    },
    {
      "cell_type": "code",
      "metadata": {
        "id": "j3CFhQXEbJX2",
        "colab_type": "code",
        "colab": {}
      },
      "source": [
        "dataset, info = tfds.load('imdb_reviews/subwords8k', as_supervised=True, with_info=True)\n",
        "train_dataset, test_dataset = dataset['train'], dataset['test']"
      ],
      "execution_count": null,
      "outputs": []
    },
    {
      "cell_type": "markdown",
      "metadata": {
        "id": "jCx82rXIK8ZF",
        "colab_type": "text"
      },
      "source": [
        "Ahora descargamos el dataset ya tokenizado, tambien nos traemos el tokenizador que lo provee."
      ]
    },
    {
      "cell_type": "code",
      "metadata": {
        "id": "oobvGhg3cx-k",
        "colab_type": "code",
        "colab": {
          "base_uri": "https://localhost:8080/",
          "height": 306
        },
        "outputId": "c6dbc98c-59b5-44eb-8a26-e2d9a004459c"
      },
      "source": [
        "list(train_dataset.take(1))"
      ],
      "execution_count": null,
      "outputs": [
        {
          "output_type": "execute_result",
          "data": {
            "text/plain": [
              "[(<tf.Tensor: shape=(163,), dtype=int64, numpy=\n",
              "  array([  62,   18,   41,  604,  927,   65,    3,  644, 7968,   21,   35,\n",
              "         5096,   36,   11,   43, 2948, 5240,  102,   50,  681, 7862, 1244,\n",
              "            3, 3266,   29,  122,  640,    2,   26,   14,  279,  438,   35,\n",
              "           79,  349,  384,   11, 1991,    3,  492,   79,  122,  188,  117,\n",
              "           33, 4047, 4531,   14,   65, 7968,    8, 1819, 3947,    3,   62,\n",
              "           27,    9,   41,  577, 5044, 2629, 2552, 7193, 7961, 3642,    3,\n",
              "           19,  107, 3903,  225,   85,  198,   72,    1, 1512,  738, 2347,\n",
              "          102, 6245,    8,   85,  308,   79, 6936, 7961,   23, 4981, 8044,\n",
              "            3, 6429, 7961, 1141, 1335, 1848, 4848,   55, 3601, 4217, 8050,\n",
              "            2,    5,   59, 3831, 1484, 8040, 7974,  174, 5773,   22, 5240,\n",
              "          102,   18,  247,   26,    4, 3903, 1612, 3902,  291,   11,    4,\n",
              "           27,   13,   18, 4092, 4008, 7961,    6,  119,  213, 2774,    3,\n",
              "           12,  258, 2306,   13,   91,   29,  171,   52,  229,    2, 1245,\n",
              "         5790,  995, 7968,    8,   52, 2948, 5240, 8039, 7968,    8,   74,\n",
              "         1249,    3,   12,  117, 2438, 1369,  192,   39, 7975])>,\n",
              "  <tf.Tensor: shape=(), dtype=int64, numpy=0>)]"
            ]
          },
          "metadata": {
            "tags": []
          },
          "execution_count": 35
        }
      ]
    },
    {
      "cell_type": "code",
      "metadata": {
        "id": "22k3ZV3UdO_W",
        "colab_type": "code",
        "colab": {}
      },
      "source": [
        "encoder = info.features['text'].encoder"
      ],
      "execution_count": null,
      "outputs": []
    },
    {
      "cell_type": "code",
      "metadata": {
        "id": "TKdRHrFjdXic",
        "colab_type": "code",
        "colab": {
          "base_uri": "https://localhost:8080/",
          "height": 34
        },
        "outputId": "3b34d3ac-b99a-4205-aef9-a8aa0b9d7a4f"
      },
      "source": [
        "encoder.encode('hi there, welcome codemotion')"
      ],
      "execution_count": null,
      "outputs": [
        {
          "output_type": "execute_result",
          "data": {
            "text/plain": [
              "[4034, 224, 2, 6351, 7961, 4306, 3138]"
            ]
          },
          "metadata": {
            "tags": []
          },
          "execution_count": 37
        }
      ]
    },
    {
      "cell_type": "markdown",
      "metadata": {
        "id": "Y7XIOkrzLIqy",
        "colab_type": "text"
      },
      "source": [
        "Probamos el tokenizador"
      ]
    },
    {
      "cell_type": "code",
      "metadata": {
        "id": "Gat_TNxYddOl",
        "colab_type": "code",
        "colab": {
          "base_uri": "https://localhost:8080/",
          "height": 120
        },
        "outputId": "82682ab5-4a71-4842-f65e-e28d8808d9a2"
      },
      "source": [
        "encoder.decode([  62,   18,   41,  604,  927,   65,    3,  644, 7968,   21,   35,\n",
        "         5096,   36,   11,   43, 2948, 5240,  102,   50,  681, 7862, 1244,\n",
        "            3, 3266,   29,  122,  640,    2,   26,   14,  279,  438,   35,\n",
        "           79,  349,  384,   11, 1991,    3,  492,   79,  122,  188,  117,\n",
        "           33, 4047, 4531,   14,   65, 7968,    8, 1819, 3947,    3,   62,\n",
        "           27,    9,   41,  577, 5044, 2629, 2552, 7193, 7961, 3642,    3,\n",
        "           19,  107, 3903,  225,   85,  198,   72,    1, 1512,  738, 2347,\n",
        "          102, 6245,    8,   85,  308,   79, 6936, 7961,   23, 4981, 8044,\n",
        "            3, 6429, 7961, 1141, 1335, 1848, 4848,   55, 3601, 4217, 8050,\n",
        "            2,    5,   59, 3831, 1484, 8040, 7974,  174, 5773,   22, 5240,\n",
        "          102,   18,  247,   26,    4, 3903, 1612, 3902,  291,   11,    4,\n",
        "           27,   13,   18, 4092, 4008, 7961,    6,  119,  213, 2774,    3,\n",
        "           12,  258, 2306,   13,   91,   29,  171,   52,  229,    2, 1245,\n",
        "         5790,  995, 7968,    8,   52, 2948, 5240, 8039, 7968,    8,   74,\n",
        "         1249,    3,   12,  117, 2438, 1369,  192,   39, 7975])"
      ],
      "execution_count": null,
      "outputs": [
        {
          "output_type": "execute_result",
          "data": {
            "application/vnd.google.colaboratory.intrinsic": {
              "type": "string"
            },
            "text/plain": [
              "\"This was an absolutely terrible movie. Don't be lured in by Christopher Walken or Michael Ironside. Both are great actors, but this must simply be their worst role in history. Even their great acting could not redeem this movie's ridiculous storyline. This movie is an early nineties US propaganda piece. The most pathetic scenes were those when the Columbian rebels were making their cases for revolutions. Maria Conchita Alonso appeared phony, and her pseudo-love affair with Walken was nothing but a pathetic emotional plug in a movie that was devoid of any real meaning. I am disappointed that there are movies like this, ruining actor's like Christopher Walken's good name. I could barely sit through it.\""
            ]
          },
          "metadata": {
            "tags": []
          },
          "execution_count": 39
        }
      ]
    },
    {
      "cell_type": "code",
      "metadata": {
        "id": "8OAXcxgydnju",
        "colab_type": "code",
        "colab": {}
      },
      "source": [
        "train_dataset = train_dataset.padded_batch(64)\n",
        "test_dataset = test_dataset.padded_batch(64)"
      ],
      "execution_count": null,
      "outputs": []
    },
    {
      "cell_type": "markdown",
      "metadata": {
        "id": "3oFkuyUJLLRs",
        "colab_type": "text"
      },
      "source": [
        "Creamos un modelo con embeddings propias, y usamos celdas LSTM que funcionan muy bien en la clasificación de texto."
      ]
    },
    {
      "cell_type": "code",
      "metadata": {
        "id": "zYYCZXL2dx1N",
        "colab_type": "code",
        "colab": {}
      },
      "source": [
        "model = tf.keras.Sequential([\n",
        "  tf.keras.layers.Embedding(encoder.vocab_size, 64),\n",
        "  tf.keras.layers.Bidirectional(tf.keras.layers.LSTM(64)),\n",
        "  tf.keras.layers.Dense(32, activation='relu'),\n",
        "  tf.keras.layers.Dense(1, activation='relu'),\n",
        "])"
      ],
      "execution_count": null,
      "outputs": []
    },
    {
      "cell_type": "code",
      "metadata": {
        "id": "2cox23ehed1U",
        "colab_type": "code",
        "colab": {}
      },
      "source": [
        "model.compile(optimizer='adam', loss='binary_crossentropy', metrics='accuracy')"
      ],
      "execution_count": null,
      "outputs": []
    },
    {
      "cell_type": "code",
      "metadata": {
        "id": "6lvRbcnQeg1o",
        "colab_type": "code",
        "colab": {
          "base_uri": "https://localhost:8080/",
          "height": 374
        },
        "outputId": "3a4f8b0e-06a0-4847-efb5-fbdd08df1190"
      },
      "source": [
        "model.fit(train_dataset, validation_data=test_dataset, validation_steps=30, epochs=10)"
      ],
      "execution_count": null,
      "outputs": [
        {
          "output_type": "stream",
          "text": [
            "Epoch 1/10\n",
            "391/391 [==============================] - 56s 144ms/step - loss: 0.9782 - accuracy: 0.6438 - val_loss: 0.4728 - val_accuracy: 0.7854\n",
            "Epoch 2/10\n",
            "391/391 [==============================] - 57s 145ms/step - loss: 0.4877 - accuracy: 0.7647 - val_loss: 0.7420 - val_accuracy: 0.4531\n",
            "Epoch 3/10\n",
            "391/391 [==============================] - 57s 145ms/step - loss: 0.6555 - accuracy: 0.7036 - val_loss: 0.5900 - val_accuracy: 0.6854\n",
            "Epoch 4/10\n",
            "391/391 [==============================] - 57s 146ms/step - loss: 0.4788 - accuracy: 0.7866 - val_loss: 0.8952 - val_accuracy: 0.4917\n",
            "Epoch 5/10\n",
            "391/391 [==============================] - 57s 145ms/step - loss: 0.5136 - accuracy: 0.7490 - val_loss: 0.5486 - val_accuracy: 0.7729\n",
            "Epoch 6/10\n",
            "391/391 [==============================] - 57s 147ms/step - loss: 0.4586 - accuracy: 0.8135 - val_loss: 0.6699 - val_accuracy: 0.5766\n",
            "Epoch 7/10\n",
            "391/391 [==============================] - 58s 148ms/step - loss: 0.3705 - accuracy: 0.8521 - val_loss: 0.8683 - val_accuracy: 0.7479\n",
            "Epoch 8/10\n",
            "391/391 [==============================] - 58s 148ms/step - loss: 0.3243 - accuracy: 0.8798 - val_loss: 0.5889 - val_accuracy: 0.7729\n",
            "Epoch 9/10\n",
            "391/391 [==============================] - 58s 149ms/step - loss: 0.2877 - accuracy: 0.8927 - val_loss: 0.7998 - val_accuracy: 0.7958\n",
            "Epoch 10/10\n",
            "391/391 [==============================] - 58s 149ms/step - loss: 0.2668 - accuracy: 0.9056 - val_loss: 0.9116 - val_accuracy: 0.7896\n"
          ],
          "name": "stdout"
        },
        {
          "output_type": "execute_result",
          "data": {
            "text/plain": [
              "<tensorflow.python.keras.callbacks.History at 0x7eff31fa4d30>"
            ]
          },
          "metadata": {
            "tags": []
          },
          "execution_count": 43
        }
      ]
    },
    {
      "cell_type": "markdown",
      "metadata": {
        "id": "mAeKTL2KLV51",
        "colab_type": "text"
      },
      "source": [
        "Vemos que obtenemos una accuracy menor que antes, pero seguramente con más entrenamiento (y mas datos) logremos mejores resultados."
      ]
    },
    {
      "cell_type": "code",
      "metadata": {
        "id": "Uw5Ve1Riej1I",
        "colab_type": "code",
        "colab": {}
      },
      "source": [
        ""
      ],
      "execution_count": null,
      "outputs": []
    }
  ]
}
